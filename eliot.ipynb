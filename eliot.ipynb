{
 "cells": [
  {
   "cell_type": "code",
   "execution_count": 1,
   "id": "bdfbec27",
   "metadata": {},
   "outputs": [],
   "source": [
    "# Import spacy\n",
    "import spacy\n",
    "\n",
    "# Import os to upload documents and metadata\n",
    "import os\n",
    "\n",
    "# Load spaCy visualizer\n",
    "from spacy import displacy"
   ]
  },
  {
   "cell_type": "code",
   "execution_count": 2,
   "id": "75c363dc",
   "metadata": {},
   "outputs": [],
   "source": [
    "# Create empty lists for file names and contents\n",
    "texts = []\n",
    "file_names = []\n",
    "\n",
    "# Iterate through each file in the folder\n",
    "for _file_name in os.listdir('eliot_poems'):\n",
    "# Look for only text files\n",
    "    if _file_name.endswith('.txt'):\n",
    "    # Append contents of each text file to text list\n",
    "        texts.append(open('eliot_poems' + '/' + _file_name, 'r', encoding='utf-8').read())\n",
    "        # Append name of each file to file name list\n",
    "        file_names.append(_file_name)"
   ]
  },
  {
   "cell_type": "code",
   "execution_count": 5,
   "id": "90cf7951",
   "metadata": {},
   "outputs": [],
   "source": [
    "#import pandas\n",
    "import pandas as pd\n",
    "\n",
    "# Create dictionary object associating each file name with its text\n",
    "df = {'Filename':file_names,'Text':texts}"
   ]
  },
  {
   "cell_type": "code",
   "execution_count": 6,
   "id": "6ec4e4b3",
   "metadata": {},
   "outputs": [],
   "source": [
    "# Turn dictionary into a dataframe\n",
    "poem_df = pd.DataFrame(df)"
   ]
  },
  {
   "cell_type": "code",
   "execution_count": 7,
   "id": "3fca13b7",
   "metadata": {},
   "outputs": [
    {
     "data": {
      "text/html": [
       "<div>\n",
       "<style scoped>\n",
       "    .dataframe tbody tr th:only-of-type {\n",
       "        vertical-align: middle;\n",
       "    }\n",
       "\n",
       "    .dataframe tbody tr th {\n",
       "        vertical-align: top;\n",
       "    }\n",
       "\n",
       "    .dataframe thead th {\n",
       "        text-align: right;\n",
       "    }\n",
       "</style>\n",
       "<table border=\"1\" class=\"dataframe\">\n",
       "  <thead>\n",
       "    <tr style=\"text-align: right;\">\n",
       "      <th></th>\n",
       "      <th>Filename</th>\n",
       "      <th>Text</th>\n",
       "    </tr>\n",
       "  </thead>\n",
       "  <tbody>\n",
       "    <tr>\n",
       "      <th>0</th>\n",
       "      <td>Macavity_The_Mystery_Cat.txt</td>\n",
       "      <td>Macavity’s a Mystery Cat: he’s called the Hidd...</td>\n",
       "    </tr>\n",
       "    <tr>\n",
       "      <th>1</th>\n",
       "      <td>Aunt_Helen.txt</td>\n",
       "      <td>Miss Helen Slingsby was my maiden aunt,\\nAnd l...</td>\n",
       "    </tr>\n",
       "    <tr>\n",
       "      <th>2</th>\n",
       "      <td>The_Dry_Salvages.txt</td>\n",
       "      <td>I do not know much about gods; but I think tha...</td>\n",
       "    </tr>\n",
       "    <tr>\n",
       "      <th>3</th>\n",
       "      <td>La_Figlia_Che_Piange.txt</td>\n",
       "      <td>Stand on the highest pavement of the stair—\\nL...</td>\n",
       "    </tr>\n",
       "    <tr>\n",
       "      <th>4</th>\n",
       "      <td>Whispers_of_Immortality.txt</td>\n",
       "      <td>Webster was much possessed by death\\nAnd saw t...</td>\n",
       "    </tr>\n",
       "  </tbody>\n",
       "</table>\n",
       "</div>"
      ],
      "text/plain": [
       "                       Filename  \\\n",
       "0  Macavity_The_Mystery_Cat.txt   \n",
       "1                Aunt_Helen.txt   \n",
       "2          The_Dry_Salvages.txt   \n",
       "3      La_Figlia_Che_Piange.txt   \n",
       "4   Whispers_of_Immortality.txt   \n",
       "\n",
       "                                                Text  \n",
       "0  Macavity’s a Mystery Cat: he’s called the Hidd...  \n",
       "1  Miss Helen Slingsby was my maiden aunt,\\nAnd l...  \n",
       "2  I do not know much about gods; but I think tha...  \n",
       "3  Stand on the highest pavement of the stair—\\nL...  \n",
       "4  Webster was much possessed by death\\nAnd saw t...  "
      ]
     },
     "execution_count": 7,
     "metadata": {},
     "output_type": "execute_result"
    }
   ],
   "source": [
    "poem_df.head()"
   ]
  },
  {
   "cell_type": "code",
   "execution_count": 8,
   "id": "7afc76f2",
   "metadata": {},
   "outputs": [
    {
     "data": {
      "text/html": [
       "<div>\n",
       "<style scoped>\n",
       "    .dataframe tbody tr th:only-of-type {\n",
       "        vertical-align: middle;\n",
       "    }\n",
       "\n",
       "    .dataframe tbody tr th {\n",
       "        vertical-align: top;\n",
       "    }\n",
       "\n",
       "    .dataframe thead th {\n",
       "        text-align: right;\n",
       "    }\n",
       "</style>\n",
       "<table border=\"1\" class=\"dataframe\">\n",
       "  <thead>\n",
       "    <tr style=\"text-align: right;\">\n",
       "      <th></th>\n",
       "      <th>Filename</th>\n",
       "      <th>Text</th>\n",
       "    </tr>\n",
       "  </thead>\n",
       "  <tbody>\n",
       "    <tr>\n",
       "      <th>0</th>\n",
       "      <td>Macavity_The_Mystery_Cat.txt</td>\n",
       "      <td>Macavity’s a Mystery Cat: he’s called the Hidd...</td>\n",
       "    </tr>\n",
       "    <tr>\n",
       "      <th>1</th>\n",
       "      <td>Aunt_Helen.txt</td>\n",
       "      <td>Miss Helen Slingsby was my maiden aunt, And li...</td>\n",
       "    </tr>\n",
       "    <tr>\n",
       "      <th>2</th>\n",
       "      <td>The_Dry_Salvages.txt</td>\n",
       "      <td>I do not know much about gods; but I think tha...</td>\n",
       "    </tr>\n",
       "    <tr>\n",
       "      <th>3</th>\n",
       "      <td>La_Figlia_Che_Piange.txt</td>\n",
       "      <td>Stand on the highest pavement of the stair— Le...</td>\n",
       "    </tr>\n",
       "    <tr>\n",
       "      <th>4</th>\n",
       "      <td>Whispers_of_Immortality.txt</td>\n",
       "      <td>Webster was much possessed by death And saw th...</td>\n",
       "    </tr>\n",
       "  </tbody>\n",
       "</table>\n",
       "</div>"
      ],
      "text/plain": [
       "                       Filename  \\\n",
       "0  Macavity_The_Mystery_Cat.txt   \n",
       "1                Aunt_Helen.txt   \n",
       "2          The_Dry_Salvages.txt   \n",
       "3      La_Figlia_Che_Piange.txt   \n",
       "4   Whispers_of_Immortality.txt   \n",
       "\n",
       "                                                Text  \n",
       "0  Macavity’s a Mystery Cat: he’s called the Hidd...  \n",
       "1  Miss Helen Slingsby was my maiden aunt, And li...  \n",
       "2  I do not know much about gods; but I think tha...  \n",
       "3  Stand on the highest pavement of the stair— Le...  \n",
       "4  Webster was much possessed by death And saw th...  "
      ]
     },
     "execution_count": 8,
     "metadata": {},
     "output_type": "execute_result"
    }
   ],
   "source": [
    "# Remove extra spaces from papers\n",
    "poem_df['Text'] = poem_df['Text'].str.replace('\\s+', ' ', regex=True).str.strip()\n",
    "poem_df.head()"
   ]
  },
  {
   "cell_type": "code",
   "execution_count": 9,
   "id": "2db63d02",
   "metadata": {},
   "outputs": [
    {
     "data": {
      "text/html": [
       "<div>\n",
       "<style scoped>\n",
       "    .dataframe tbody tr th:only-of-type {\n",
       "        vertical-align: middle;\n",
       "    }\n",
       "\n",
       "    .dataframe tbody tr th {\n",
       "        vertical-align: top;\n",
       "    }\n",
       "\n",
       "    .dataframe thead th {\n",
       "        text-align: right;\n",
       "    }\n",
       "</style>\n",
       "<table border=\"1\" class=\"dataframe\">\n",
       "  <thead>\n",
       "    <tr style=\"text-align: right;\">\n",
       "      <th></th>\n",
       "      <th>Title</th>\n",
       "      <th>Year</th>\n",
       "    </tr>\n",
       "  </thead>\n",
       "  <tbody>\n",
       "    <tr>\n",
       "      <th>0</th>\n",
       "      <td>The_Waste_Land</td>\n",
       "      <td>1922</td>\n",
       "    </tr>\n",
       "    <tr>\n",
       "      <th>1</th>\n",
       "      <td>The_Hollow_Men</td>\n",
       "      <td>1925</td>\n",
       "    </tr>\n",
       "    <tr>\n",
       "      <th>2</th>\n",
       "      <td>The_Love_Song_of_J.Alfred_Prufrock</td>\n",
       "      <td>1915</td>\n",
       "    </tr>\n",
       "    <tr>\n",
       "      <th>3</th>\n",
       "      <td>Burnt_Norton</td>\n",
       "      <td>1936</td>\n",
       "    </tr>\n",
       "    <tr>\n",
       "      <th>4</th>\n",
       "      <td>Ash_Wednesday</td>\n",
       "      <td>1930</td>\n",
       "    </tr>\n",
       "  </tbody>\n",
       "</table>\n",
       "</div>"
      ],
      "text/plain": [
       "                                Title  Year\n",
       "0                      The_Waste_Land  1922\n",
       "1                      The_Hollow_Men  1925\n",
       "2  The_Love_Song_of_J.Alfred_Prufrock  1915\n",
       "3                        Burnt_Norton  1936\n",
       "4                       Ash_Wednesday  1930"
      ]
     },
     "execution_count": 9,
     "metadata": {},
     "output_type": "execute_result"
    }
   ],
   "source": [
    "# Load metadata\n",
    "metadata_df = pd.read_csv('metadata.csv')\n",
    "metadata_df.head()"
   ]
  },
  {
   "cell_type": "code",
   "execution_count": 10,
   "id": "b5ee07af",
   "metadata": {},
   "outputs": [],
   "source": [
    "# Remove .txt from title of each poem\n",
    "poem_df['Filename'] = poem_df['Filename'].str.replace('.txt', '', regex=True)\n",
    "\n",
    "# Rename column from paper ID to Title\n",
    "metadata_df.rename(columns={\"Title\": \"Filename\"}, inplace=True)"
   ]
  },
  {
   "cell_type": "code",
   "execution_count": 11,
   "id": "77c79dec",
   "metadata": {},
   "outputs": [],
   "source": [
    "# Merge metadata and poems into new DataFrame\n",
    "final_poem_df = metadata_df.merge(poem_df,on='Filename')"
   ]
  },
  {
   "cell_type": "code",
   "execution_count": 12,
   "id": "510e9ebf",
   "metadata": {},
   "outputs": [
    {
     "data": {
      "text/html": [
       "<div>\n",
       "<style scoped>\n",
       "    .dataframe tbody tr th:only-of-type {\n",
       "        vertical-align: middle;\n",
       "    }\n",
       "\n",
       "    .dataframe tbody tr th {\n",
       "        vertical-align: top;\n",
       "    }\n",
       "\n",
       "    .dataframe thead th {\n",
       "        text-align: right;\n",
       "    }\n",
       "</style>\n",
       "<table border=\"1\" class=\"dataframe\">\n",
       "  <thead>\n",
       "    <tr style=\"text-align: right;\">\n",
       "      <th></th>\n",
       "      <th>Filename</th>\n",
       "      <th>Year</th>\n",
       "      <th>Text</th>\n",
       "    </tr>\n",
       "  </thead>\n",
       "  <tbody>\n",
       "    <tr>\n",
       "      <th>0</th>\n",
       "      <td>The_Waste_Land</td>\n",
       "      <td>1922</td>\n",
       "      <td>I. The Burial of the Dead April is the cruelle...</td>\n",
       "    </tr>\n",
       "    <tr>\n",
       "      <th>1</th>\n",
       "      <td>The_Hollow_Men</td>\n",
       "      <td>1925</td>\n",
       "      <td>I We are the hollow men We are the hollow men ...</td>\n",
       "    </tr>\n",
       "    <tr>\n",
       "      <th>2</th>\n",
       "      <td>The_Love_Song_of_J.Alfred_Prufrock</td>\n",
       "      <td>1915</td>\n",
       "      <td>Let us go then, you and I, When the evening is...</td>\n",
       "    </tr>\n",
       "    <tr>\n",
       "      <th>3</th>\n",
       "      <td>Burnt_Norton</td>\n",
       "      <td>1936</td>\n",
       "      <td>I Time present and time past Are both perhaps ...</td>\n",
       "    </tr>\n",
       "    <tr>\n",
       "      <th>4</th>\n",
       "      <td>Ash_Wednesday</td>\n",
       "      <td>1930</td>\n",
       "      <td>I Because I do not hope to turn again Because ...</td>\n",
       "    </tr>\n",
       "  </tbody>\n",
       "</table>\n",
       "</div>"
      ],
      "text/plain": [
       "                             Filename  Year  \\\n",
       "0                      The_Waste_Land  1922   \n",
       "1                      The_Hollow_Men  1925   \n",
       "2  The_Love_Song_of_J.Alfred_Prufrock  1915   \n",
       "3                        Burnt_Norton  1936   \n",
       "4                       Ash_Wednesday  1930   \n",
       "\n",
       "                                                Text  \n",
       "0  I. The Burial of the Dead April is the cruelle...  \n",
       "1  I We are the hollow men We are the hollow men ...  \n",
       "2  Let us go then, you and I, When the evening is...  \n",
       "3  I Time present and time past Are both perhaps ...  \n",
       "4  I Because I do not hope to turn again Because ...  "
      ]
     },
     "execution_count": 12,
     "metadata": {},
     "output_type": "execute_result"
    }
   ],
   "source": [
    "# Print DataFrame\n",
    "final_poem_df.head()"
   ]
  },
  {
   "cell_type": "markdown",
   "id": "32c08839",
   "metadata": {},
   "source": [
    "### Creating Doc Objects ###"
   ]
  },
  {
   "cell_type": "code",
   "execution_count": 13,
   "id": "7976371c",
   "metadata": {},
   "outputs": [],
   "source": [
    "# Load nlp pipeline\n",
    "nlp = spacy.load('en_core_web_sm')"
   ]
  },
  {
   "cell_type": "code",
   "execution_count": 14,
   "id": "87fcdf90",
   "metadata": {},
   "outputs": [],
   "source": [
    "# Define a function that runs the nlp pipeline on any given input text\n",
    "def process_text(text):\n",
    "    return nlp(text)"
   ]
  },
  {
   "cell_type": "code",
   "execution_count": 15,
   "id": "f905b8eb",
   "metadata": {},
   "outputs": [],
   "source": [
    "# Apply the function to the \"Text\" column\n",
    "final_poem_df['Text'] = final_poem_df['Text'].apply(process_text)"
   ]
  },
  {
   "cell_type": "markdown",
   "id": "6437d070",
   "metadata": {},
   "source": [
    "### Tokenization ###"
   ]
  },
  {
   "cell_type": "code",
   "execution_count": 16,
   "id": "729e4306",
   "metadata": {},
   "outputs": [],
   "source": [
    "# Define a function to retrieve tokens from a doc object\n",
    "def get_token(doc):\n",
    "    return [(token.text) for token in doc]"
   ]
  },
  {
   "cell_type": "code",
   "execution_count": 18,
   "id": "ac54d126",
   "metadata": {},
   "outputs": [
    {
     "data": {
      "text/html": [
       "<div>\n",
       "<style scoped>\n",
       "    .dataframe tbody tr th:only-of-type {\n",
       "        vertical-align: middle;\n",
       "    }\n",
       "\n",
       "    .dataframe tbody tr th {\n",
       "        vertical-align: top;\n",
       "    }\n",
       "\n",
       "    .dataframe thead th {\n",
       "        text-align: right;\n",
       "    }\n",
       "</style>\n",
       "<table border=\"1\" class=\"dataframe\">\n",
       "  <thead>\n",
       "    <tr style=\"text-align: right;\">\n",
       "      <th></th>\n",
       "      <th>Filename</th>\n",
       "      <th>Year</th>\n",
       "      <th>Text</th>\n",
       "      <th>Tokens</th>\n",
       "    </tr>\n",
       "  </thead>\n",
       "  <tbody>\n",
       "    <tr>\n",
       "      <th>0</th>\n",
       "      <td>The_Waste_Land</td>\n",
       "      <td>1922</td>\n",
       "      <td>(I., The, Burial, of, the, Dead, April, is, th...</td>\n",
       "      <td>[I., The, Burial, of, the, Dead, April, is, th...</td>\n",
       "    </tr>\n",
       "    <tr>\n",
       "      <th>1</th>\n",
       "      <td>The_Hollow_Men</td>\n",
       "      <td>1925</td>\n",
       "      <td>(I, We, are, the, hollow, men, We, are, the, h...</td>\n",
       "      <td>[I, We, are, the, hollow, men, We, are, the, h...</td>\n",
       "    </tr>\n",
       "    <tr>\n",
       "      <th>2</th>\n",
       "      <td>The_Love_Song_of_J.Alfred_Prufrock</td>\n",
       "      <td>1915</td>\n",
       "      <td>(Let, us, go, then, ,, you, and, I, ,, When, t...</td>\n",
       "      <td>[Let, us, go, then, ,, you, and, I, ,, When, t...</td>\n",
       "    </tr>\n",
       "    <tr>\n",
       "      <th>3</th>\n",
       "      <td>Burnt_Norton</td>\n",
       "      <td>1936</td>\n",
       "      <td>(I, Time, present, and, time, past, Are, both,...</td>\n",
       "      <td>[I, Time, present, and, time, past, Are, both,...</td>\n",
       "    </tr>\n",
       "    <tr>\n",
       "      <th>4</th>\n",
       "      <td>Ash_Wednesday</td>\n",
       "      <td>1930</td>\n",
       "      <td>(I, Because, I, do, not, hope, to, turn, again...</td>\n",
       "      <td>[I, Because, I, do, not, hope, to, turn, again...</td>\n",
       "    </tr>\n",
       "  </tbody>\n",
       "</table>\n",
       "</div>"
      ],
      "text/plain": [
       "                             Filename  Year  \\\n",
       "0                      The_Waste_Land  1922   \n",
       "1                      The_Hollow_Men  1925   \n",
       "2  The_Love_Song_of_J.Alfred_Prufrock  1915   \n",
       "3                        Burnt_Norton  1936   \n",
       "4                       Ash_Wednesday  1930   \n",
       "\n",
       "                                                Text  \\\n",
       "0  (I., The, Burial, of, the, Dead, April, is, th...   \n",
       "1  (I, We, are, the, hollow, men, We, are, the, h...   \n",
       "2  (Let, us, go, then, ,, you, and, I, ,, When, t...   \n",
       "3  (I, Time, present, and, time, past, Are, both,...   \n",
       "4  (I, Because, I, do, not, hope, to, turn, again...   \n",
       "\n",
       "                                              Tokens  \n",
       "0  [I., The, Burial, of, the, Dead, April, is, th...  \n",
       "1  [I, We, are, the, hollow, men, We, are, the, h...  \n",
       "2  [Let, us, go, then, ,, you, and, I, ,, When, t...  \n",
       "3  [I, Time, present, and, time, past, Are, both,...  \n",
       "4  [I, Because, I, do, not, hope, to, turn, again...  "
      ]
     },
     "execution_count": 18,
     "metadata": {},
     "output_type": "execute_result"
    }
   ],
   "source": [
    "# Run the token retrieval function on the doc objects in the dataframe\n",
    "final_poem_df['Tokens'] = final_poem_df['Text'].apply(get_token)\n",
    "final_poem_df.head()"
   ]
  },
  {
   "cell_type": "markdown",
   "id": "fbf6e6ac",
   "metadata": {},
   "source": [
    "### Lemmatization ###"
   ]
  },
  {
   "cell_type": "code",
   "execution_count": 20,
   "id": "eb3f0f10",
   "metadata": {},
   "outputs": [],
   "source": [
    "# Define a function to retrieve lemmas from a doc object\n",
    "def get_lemma(doc):\n",
    "    return [(token.lemma_) for token in doc]\n",
    "\n",
    "# Run the lemma retrieval function on the doc objects in the dataframe\n",
    "final_poem_df['Lemmas'] = final_poem_df['Text'].apply(get_lemma)"
   ]
  },
  {
   "cell_type": "markdown",
   "id": "68b9175b",
   "metadata": {},
   "source": [
    "### Part of Speech"
   ]
  },
  {
   "cell_type": "code",
   "execution_count": 22,
   "id": "165b59f4",
   "metadata": {},
   "outputs": [],
   "source": [
    "# Define a function to retrieve lemmas from a doc object\n",
    "def get_pos(doc):\n",
    "    #Return the coarse- and fine-grained part of speech text for each token in the doc\n",
    "    return [(token.pos_, token.tag_) for token in doc]\n",
    "\n",
    "# Define a function to retrieve parts of speech from a doc object\n",
    "final_poem_df['POS'] = final_poem_df['Text'].apply(get_pos)"
   ]
  },
  {
   "cell_type": "markdown",
   "id": "3cd54d87",
   "metadata": {},
   "source": [
    "### Download Dataset"
   ]
  },
  {
   "cell_type": "code",
   "execution_count": 23,
   "id": "879f3241",
   "metadata": {},
   "outputs": [],
   "source": [
    "# Save DataFrame as csv\n",
    "final_poem_df.to_csv('eliot_poems.csv')"
   ]
  },
  {
   "cell_type": "code",
   "execution_count": null,
   "id": "8f86836b",
   "metadata": {},
   "outputs": [],
   "source": []
  }
 ],
 "metadata": {
  "kernelspec": {
   "display_name": "Python 3 (ipykernel)",
   "language": "python",
   "name": "python3"
  },
  "language_info": {
   "codemirror_mode": {
    "name": "ipython",
    "version": 3
   },
   "file_extension": ".py",
   "mimetype": "text/x-python",
   "name": "python",
   "nbconvert_exporter": "python",
   "pygments_lexer": "ipython3",
   "version": "3.9.13"
  }
 },
 "nbformat": 4,
 "nbformat_minor": 5
}
